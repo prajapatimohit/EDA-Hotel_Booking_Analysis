{
  "nbformat": 4,
  "nbformat_minor": 0,
  "metadata": {
    "colab": {
      "private_outputs": true,
      "provenance": [],
      "collapsed_sections": [
        "JMzcOPDDphqR",
        "n3dbpmDWp1ck",
        "ylSl6qgtp1ck",
        "ZWILFDl5p1ck",
        "M7G43BXep1ck",
        "E6MkPsBcp1cl",
        "2cELzS2fp1cl",
        "3MPXvC8up1cl",
        "EXh0U9oCveiU",
        "22aHeOlLveiV",
        "gIfDvo9L0UH2"
      ],
      "include_colab_link": true
    },
    "kernelspec": {
      "name": "python3",
      "display_name": "Python 3"
    },
    "language_info": {
      "name": "python"
    },
    "accelerator": "GPU",
    "gpuClass": "standard"
  },
  "cells": [
    {
      "cell_type": "markdown",
      "metadata": {
        "id": "view-in-github",
        "colab_type": "text"
      },
      "source": [
        "<a href=\"https://colab.research.google.com/github/prajapatimohit/EDA-Hotel_Booking_Analysis/blob/main/Hotel_Booking_Analysis_EDA.ipynb\" target=\"_parent\"><img src=\"https://colab.research.google.com/assets/colab-badge.svg\" alt=\"Open In Colab\"/></a>"
      ]
    },
    {
      "cell_type": "markdown",
      "source": [
        "# **Project Name**    - Hotel Booking Analysis EDA\n",
        "\n"
      ],
      "metadata": {
        "id": "vncDsAP0Gaoa"
      }
    },
    {
      "cell_type": "markdown",
      "source": [
        "##### **Project Type**    - EDA\n",
        "##### **Contribution**    - Individual (Mohit prajapati)\n"
      ],
      "metadata": {
        "id": "beRrZCGUAJYm"
      }
    },
    {
      "cell_type": "markdown",
      "source": [
        "# **Project Summary -**"
      ],
      "metadata": {
        "id": "FJNUwmbgGyua"
      }
    },
    {
      "cell_type": "markdown",
      "source": [
        "The hotel booking dataset contains information about bookings for a city hotel and a resort hotel, including the booking date, length of stay, number of guests, and parking availability. This data can be used to answer questions about the best time to book a hotel room, the optimal length of stay, and the likelihood of receiving special requests. Personal information has been removed to protect privacy. By analyzing this data, important factors that impact hotel bookings can be discovered.\n",
        "\n",
        "# **Column information**\n",
        "\n",
        "\n",
        "**Hotel**\n",
        "*  H1: Resort hotel\n",
        "\n",
        "*  H2: City hotel\n",
        "\n",
        "**is_canceled**\n",
        "\n",
        "*   1: Canceled\n",
        "*   0: Not canceled\n",
        "\n",
        "**lead_time**\n",
        "\n",
        "No of days that elapsed between entering date of booking into property management system and arrival date\n",
        "\n",
        "**arrival_date_year**\n",
        "\n",
        "Year of arrival date (2015-2017)\n",
        "\n",
        "**arrival_date_month**\n",
        "\n",
        "Month of arrival date (Jan - Dec)\n",
        "\n",
        "**arrival_date_week_numberr**\n",
        "\n",
        "Week number of year for arrival date (1-53)\n",
        "\n",
        "**arrival_date_day_of_month**\n",
        "\n",
        "Day of arrival date\n",
        "\n",
        "**stays_in_weekend_nights**\n",
        "\n",
        "No of weekend nights (Sat/Sun) the guest stayed or booked to stay at the hotel\n",
        "\n",
        "**stays_in_week_nights**\n",
        "No of week nights (Mon - Fri) the guest stayed or booked to stay at the hotel\n",
        "\n",
        "\n",
        "**Adults**\n",
        "**Children**\n",
        "**Babies**\n",
        "\n",
        "**meal**\n",
        "\n",
        "Type of meal booked. Undefined/SC – no meal \n",
        "package; BB – Bed & Breakfast; HB – Half board (breakfast and one other meal – usually dinner); FB – Full board (breakfast, lunch and dinner)\n",
        "\n",
        "**country**\n",
        "\n",
        "**market_segment** \n",
        "(a group of people who share one or more common characteristics, lumped together for marketing purposes)\n",
        "\n",
        "  \n",
        "\n",
        "*   TA: Travel agents\n",
        "*   TO: Tour operators\n",
        "\n",
        "\n",
        "  \n",
        "**distribution_channel**\n",
        "\n",
        "(A distribution channel is a chain of businesses or intermediaries through which a good or service passes until it reaches the final buyer or the end consumer)\n",
        "\n",
        "TA: Travel agents\n",
        "TO: Tour operators\n",
        "\n",
        "**is_repeated_guest** \n",
        "\n",
        "(value indicating if the booking name was from repeated guest)\n",
        "\n",
        "1: Yes\n",
        "0: No\n",
        "\n",
        "**previous_cancellations**\n",
        "\n",
        "Number of previous bookings that were cancelled by the customer prior to the current booking\n",
        "\n",
        "**previous_bookings_not_canceled**\n",
        "\n",
        "Number of previous bookings not cancelled by the customer prior to the current booking\n",
        "\n",
        "**reserved_room_type**\n",
        "\n",
        "Code of room type reserved. Code is presented instead of designation for anonymity reasons.\n",
        "\n",
        "**assigned_room_type**\n",
        "\n",
        "Code for the type of room assigned to the booking. Sometimes the assigned room type differs from the reserved room type due to hotel operation reasons (e.g. overbooking) or by customer request. Code is presented instead of designation for anonymity reasons.\n",
        "\n",
        "**booking_changes**\n",
        "Number of changes/amendments made to the booking from the moment the booking was entered on the PMS until the moment of check-in or cancellation\n",
        "\n",
        "**deposit_type**\n",
        "\n",
        "Indication on if the customer made a deposit to guarantee the booking. This variable can assume three categories: No Deposit – no deposit was made; Non Refund – a deposit was made in the value of the total stay cost; Refundable – a deposit was made with a value under the total cost of stay.\n",
        "\n",
        "**agent**\n",
        "\n",
        "ID of the travel agency that made the booking\n",
        "\n",
        "**company**\n",
        "\n",
        "ID of the company/entity that made the booking or responsible for paying the booking. ID is presented instead of designation for anonymity reasons\n",
        "\n",
        "**day_in_waiting_list**\n",
        "\n",
        "Number of days the booking was in the waiting list before it was confirmed to the customer\n",
        "\n",
        "**customer_type**\n",
        "\n",
        "Contract - when the booking has an allotment or other type of contract associated to it;\n",
        "Group – when the booking is associated to a group;\n",
        "Transient – when the booking is not part of a group or contract, and is not associated to other transient booking;\n",
        "Transient-party – when the booking is transient, but is associated to at least other transient booking\n",
        "\n",
        "adr (average daily rate)\n",
        "average daily rate = \n",
        " \n",
        "**required_car_parking_spaces**\n",
        "\n",
        "Number of car parking spaces required by the customer\n",
        "\n",
        "**total_of_special_requests**\n",
        "\n",
        "Number of special requests made by the customer (e.g. twin bed or high floor)\n",
        "\n",
        "**reservation_status**\n",
        "\n",
        "Canceled – booking was canceled by the customer;\n",
        "Check-Out – customer has checked in but already departed;\n",
        "No-Show – customer did not check-in and did inform the hotel of the reason why\n",
        "\n",
        "**reservation_status_date**\n",
        "Date at which the last status was set. This variable can be used in conjunction with the ReservationStatus to understand when was the booking canceled or when did the customer checked-out of the hotel\n",
        "\n",
        "\n",
        "\n"
      ],
      "metadata": {
        "id": "F6v_1wHtG2nS"
      }
    },
    {
      "cell_type": "markdown",
      "source": [
        "# **GitHub Link -**"
      ],
      "metadata": {
        "id": "w6K7xa23Elo4"
      }
    },
    {
      "cell_type": "markdown",
      "source": [
        "https://github.com/prajapatimohit/EDA-Hotel_Booking_Analysis.git"
      ],
      "metadata": {
        "id": "h1o69JH3Eqqn"
      }
    },
    {
      "cell_type": "markdown",
      "source": [
        "# **Problem Statement**\n"
      ],
      "metadata": {
        "id": "yQaldy8SH6Dl"
      }
    },
    {
      "cell_type": "markdown",
      "source": [
        "Our main objective is perform EDA on the given dataset and draw useful conclusions about general trends in hotel bookings and how factors governing hotel bookings interact with each other."
      ],
      "metadata": {
        "id": "DpeJGUA3kjGy"
      }
    },
    {
      "cell_type": "markdown",
      "source": [
        "#### **Define Your Business Objective?**"
      ],
      "metadata": {
        "id": "PH-0ReGfmX4f"
      }
    },
    {
      "cell_type": "markdown",
      "source": [
        "Generate a report for the management, the new marketing manager of Business so they can derive a strategy for the marketing team. As a newly hired data analyst, I have been assigned this task as majority of my colleagues (except some senior staff) were quarantined after spread of the coronavirus in the office. I need to win them back! I will work with data from year 2015 to 2017."
      ],
      "metadata": {
        "id": "PhDvGCAqmjP1"
      }
    },
    {
      "cell_type": "markdown",
      "source": [
        "# **General Guidelines** : -  "
      ],
      "metadata": {
        "id": "mDgbUHAGgjLW"
      }
    },
    {
      "cell_type": "markdown",
      "source": [
        "1.   Well-structured, formatted, and commented code is required. \n",
        "2.   Exception Handling, Production Grade Code & Deployment Ready Code will be a plus. Those students will be awarded some additional credits. \n",
        "     \n",
        "     The additional credits will have advantages over other students during Star Student selection.\n",
        "       \n",
        "             [ Note: - Deployment Ready Code is defined as, the whole .ipynb notebook should be executable in one go\n",
        "                       without a single error logged. ]\n",
        "\n",
        "3.   Each and every logic should have proper comments.\n",
        "4. You may add as many number of charts you want. Make Sure for each and every chart the following format should be answered.\n",
        "        \n",
        "\n",
        "```\n",
        "# Chart visualization code\n",
        "```\n",
        "            \n",
        "\n",
        "*   Why did you pick the specific chart?\n",
        "*   What is/are the insight(s) found from the chart?\n",
        "* Will the gained insights help creating a positive business impact? \n",
        "Are there any insights that lead to negative growth? Justify with specific reason.\n",
        "\n",
        "5. You have to create at least 20 logical & meaningful charts having important insights.\n",
        "\n",
        "\n",
        "[ Hints : - Do the Vizualization in  a structured way while following \"UBM\" Rule. \n",
        "\n",
        "U - Univariate Analysis,\n",
        "\n",
        "B - Bivariate Analysis (Numerical - Categorical, Numerical - Numerical, Categorical - Categorical)\n",
        "\n",
        "M - Multivariate Analysis\n",
        " ]\n",
        "\n",
        "\n",
        "\n"
      ],
      "metadata": {
        "id": "ZrxVaUj-hHfC"
      }
    },
    {
      "cell_type": "markdown",
      "source": [
        "# ***Let's Begin !***"
      ],
      "metadata": {
        "id": "O_i_v8NEhb9l"
      }
    },
    {
      "cell_type": "markdown",
      "source": [
        "## ***1. Know Your Data***"
      ],
      "metadata": {
        "id": "HhfV-JJviCcP"
      }
    },
    {
      "cell_type": "markdown",
      "source": [
        "### Import Libraries"
      ],
      "metadata": {
        "id": "Y3lxredqlCYt"
      }
    },
    {
      "cell_type": "code",
      "source": [
        "import numpy as np\n",
        "import pandas as pd\n",
        "import matplotlib.pyplot as plt\n",
        "import seaborn as sns\n"
      ],
      "metadata": {
        "id": "M8Vqi-pPk-HR"
      },
      "execution_count": null,
      "outputs": []
    },
    {
      "cell_type": "markdown",
      "source": [
        "### Dataset Loading"
      ],
      "metadata": {
        "id": "3RnN4peoiCZX"
      }
    },
    {
      "cell_type": "code",
      "source": [
        "## mounting drive\n",
        "\n",
        "from google.colab import drive\n",
        "drive.mount('/content/drive')"
      ],
      "metadata": {
        "id": "4CkvbW_SlZ_R"
      },
      "execution_count": null,
      "outputs": []
    },
    {
      "cell_type": "code",
      "source": [
        "data = pd.read_csv('/content/drive/MyDrive/Capstone_1(EDA)/Hotel Bookings.csv')\n",
        "data.head()"
      ],
      "metadata": {
        "id": "8c5LlpOVvxNk"
      },
      "execution_count": null,
      "outputs": []
    },
    {
      "cell_type": "markdown",
      "source": [
        "### Dataset First View"
      ],
      "metadata": {
        "id": "x71ZqKXriCWQ"
      }
    },
    {
      "cell_type": "code",
      "source": [
        "data.describe()"
      ],
      "metadata": {
        "id": "LWNFOSvLl09H"
      },
      "execution_count": null,
      "outputs": []
    },
    {
      "cell_type": "markdown",
      "source": [
        "### Dataset Rows & Columns count"
      ],
      "metadata": {
        "id": "7hBIi_osiCS2"
      }
    },
    {
      "cell_type": "code",
      "source": [
        "# Dataset Rows & Columns count\n",
        "num_of_Rows = data.shape[0]\n",
        "num_of_Columns = data.shape[1]\n",
        "print(f\"Total no. of rows: {num_of_Rows}\")\n",
        "print(f\"Total no. of columns: {num_of_Columns}\")"
      ],
      "metadata": {
        "id": "Kllu7SJgmLij"
      },
      "execution_count": null,
      "outputs": []
    },
    {
      "cell_type": "markdown",
      "source": [
        "### Dataset Information"
      ],
      "metadata": {
        "id": "JlHwYmJAmNHm"
      }
    },
    {
      "cell_type": "code",
      "source": [
        "# Dataset Info\n",
        "data.info()"
      ],
      "metadata": {
        "id": "e9hRXRi6meOf"
      },
      "execution_count": null,
      "outputs": []
    },
    {
      "cell_type": "markdown",
      "source": [
        "#### Duplicate Values"
      ],
      "metadata": {
        "id": "35m5QtbWiB9F"
      }
    },
    {
      "cell_type": "code",
      "source": [
        "# Dataset Duplicate Value Count\n",
        "data.duplicated().sum()"
      ],
      "metadata": {
        "id": "1sLdpKYkmox0"
      },
      "execution_count": null,
      "outputs": []
    },
    {
      "cell_type": "markdown",
      "source": [
        "\n",
        "\n",
        "*   Our data set contains total 119390 Rows out of which 31994 rows are duplicate.\n",
        "\n",
        "\n",
        "\n"
      ],
      "metadata": {
        "id": "G2pUFSUesp6s"
      }
    },
    {
      "cell_type": "markdown",
      "source": [
        "#### Missing Values/Null Values"
      ],
      "metadata": {
        "id": "PoPl-ycgm1ru"
      }
    },
    {
      "cell_type": "code",
      "source": [
        "# Missing Values/Null Values Count\n",
        "null_values = data.isnull().sum().sort_values(ascending = False)[:4]\n",
        "null_values"
      ],
      "metadata": {
        "id": "GgHWkxvamxVg"
      },
      "execution_count": null,
      "outputs": []
    },
    {
      "cell_type": "markdown",
      "source": [
        "In our data set there are many null values we need to remove those nullvalues in order to have accurate result."
      ],
      "metadata": {
        "id": "4sTv7OMlu693"
      }
    },
    {
      "cell_type": "code",
      "source": [
        "# visualize missing values\n",
        "plt.figure(figsize=(30,12))\n",
        "sns.heatmap(data.isna().transpose()      #This checks each cell in the DataFrame data to see if it is null or missing.\n",
        ",cmap=\"YlGnBu\"                           #sets the color map to use for the heatmap\n",
        ",cbar_kws={'label': 'Missing Data'})     #adds a color bar to the right of the heatmap with a label (\"Missing Data\") indicating what the colors represent."
      ],
      "metadata": {
        "id": "zkHQ_JWS_xs8"
      },
      "execution_count": null,
      "outputs": []
    },
    {
      "cell_type": "markdown",
      "source": [
        "### What did you know about your dataset?"
      ],
      "metadata": {
        "id": "H0kj-8xxnORC"
      }
    },
    {
      "cell_type": "markdown",
      "source": [
        "In the given dataset we have toatal no. of rows and columns  . In the data set Company coloumn has heighest no of missing values followed by agent, country and children."
      ],
      "metadata": {
        "id": "gfoNAAC-nUe_"
      }
    },
    {
      "cell_type": "markdown",
      "source": [
        "## ***2. Understanding Your Variables***"
      ],
      "metadata": {
        "id": "nA9Y7ga8ng1Z"
      }
    },
    {
      "cell_type": "code",
      "source": [
        "# Dataset Columns\n",
        "data.columns"
      ],
      "metadata": {
        "id": "j7xfkqrt5Ag5"
      },
      "execution_count": null,
      "outputs": []
    },
    {
      "cell_type": "code",
      "source": [
        "# Dataset Describe\n",
        "data.describe()"
      ],
      "metadata": {
        "id": "DnOaZdaE5Q5t"
      },
      "execution_count": null,
      "outputs": []
    },
    {
      "cell_type": "markdown",
      "source": [
        "### Variables Description "
      ],
      "metadata": {
        "id": "PBTbrJXOngz2"
      }
    },
    {
      "cell_type": "markdown",
      "source": [
        "Answer Here"
      ],
      "metadata": {
        "id": "aJV4KIxSnxay"
      }
    },
    {
      "cell_type": "markdown",
      "source": [
        "### Check Unique Values for each variable."
      ],
      "metadata": {
        "id": "u3PMJOP6ngxN"
      }
    },
    {
      "cell_type": "code",
      "source": [
        "# Check Unique Values for each variable.\n",
        "for col in data.columns:\n",
        "    unique_vals = data[col].unique()\n",
        "    print('Unique values for column', col, ':', unique_vals[:7])"
      ],
      "metadata": {
        "id": "zms12Yq5n-jE"
      },
      "execution_count": null,
      "outputs": []
    },
    {
      "cell_type": "markdown",
      "source": [
        "## 3. ***Data Wrangling***"
      ],
      "metadata": {
        "id": "dauF4eBmngu3"
      }
    },
    {
      "cell_type": "markdown",
      "source": [
        "### Data Wrangling Code"
      ],
      "metadata": {
        "id": "bKJF3rekwFvQ"
      }
    },
    {
      "cell_type": "code",
      "source": [
        "# Write your code to make your dataset analysis ready.\n",
        "data = data.drop(columns = ['agent', 'company']) # removing the columns that contain unimportant attributes"
      ],
      "metadata": {
        "id": "wk-9a2fpoLcV"
      },
      "execution_count": null,
      "outputs": []
    },
    {
      "cell_type": "markdown",
      "source": [
        "Since there are only 488 rows that contain NaN values, which is a very small proportion of the total of 119,390 rows, these rows will be removed. Therefore, removing them from the dataset is a practical approach."
      ],
      "metadata": {
        "id": "iwtCF_CroSNX"
      }
    },
    {
      "cell_type": "code",
      "source": [
        "data = data.dropna(axis = 0)\n",
        "# Check to see if there are any more NaN data \n",
        "data.isnull().sum()"
      ],
      "metadata": {
        "id": "8BNA-0VcopLt"
      },
      "execution_count": null,
      "outputs": []
    },
    {
      "cell_type": "markdown",
      "source": [
        "### What all manipulations have you done and insights you found?"
      ],
      "metadata": {
        "id": "MSa1f5Uengrz"
      }
    },
    {
      "cell_type": "markdown",
      "source": [
        "There seem to be a significant number of NaN values in the \"company\" and \"agent\" columns. It's unlikely that these missing values would have any impact on the analysis, so it's better to simply remove these two columns altogether.\n",
        "\n",
        "\n",
        "Removing rows with NaN values isn't feasible, as it would entail discarding 112,593 out of 119,390 rows. Therefore, removing the columns that contain unimportant attributes, such as agents and companies, would be a more effective approach."
      ],
      "metadata": {
        "id": "LbyXE7I1olp8"
      }
    },
    {
      "cell_type": "markdown",
      "source": [
        "## ***4. Data Vizualization, Storytelling & Experimenting with charts : Understand the relationships between variables***"
      ],
      "metadata": {
        "id": "GF8Ens_Soomf"
      }
    },
    {
      "cell_type": "markdown",
      "source": [
        "**chart-1 Lets compare bookings trend for two Hotels**"
      ],
      "metadata": {
        "id": "0wOQAZs5pc--"
      }
    },
    {
      "cell_type": "code",
      "source": [
        "sns.set(style=\"darkgrid\")\n",
        "sns.countplot(x=\"hotel\", data=data, palette=[\"r\", \"y\"])\n",
        "plt.title(\"Booking counts for two different hotels\")\n",
        "plt.show()"
      ],
      "metadata": {
        "id": "oZPU8orCjcYB"
      },
      "execution_count": null,
      "outputs": []
    },
    {
      "cell_type": "markdown",
      "source": [
        "##### 1. Why did you pick the specific chart?"
      ],
      "metadata": {
        "id": "K5QZ13OEpz2H"
      }
    },
    {
      "cell_type": "markdown",
      "source": [
        "Here we have only two variables and we want to see a percentage ratio between these two variables."
      ],
      "metadata": {
        "id": "XESiWehPqBRc"
      }
    },
    {
      "cell_type": "markdown",
      "source": [
        "##### 2. What is/are the insight(s) found from the chart?"
      ],
      "metadata": {
        "id": "lQ7QKXXCp7Bj"
      }
    },
    {
      "cell_type": "markdown",
      "source": [
        "It seems that a huge proportion of Bookings belongs to city hotel. "
      ],
      "metadata": {
        "id": "C_j1G7yiqdRP"
      }
    },
    {
      "cell_type": "markdown",
      "source": [
        "##### 3. Will the gained insights help creating a positive business impact? "
      ],
      "metadata": {
        "id": "448CDAPjqfQr"
      }
    },
    {
      "cell_type": "markdown",
      "source": [
        "It seems that majority of bookings goes to City hotel. We can suggest promotional activities in order to boost booking for Resort hotel."
      ],
      "metadata": {
        "id": "3cspy4FjqxJW"
      }
    },
    {
      "cell_type": "markdown",
      "source": [
        "**Chart-2 Let's get an overview of the total number of individuals who made hotel reservations.**"
      ],
      "metadata": {
        "id": "KSlN3yHqYklG"
      }
    },
    {
      "cell_type": "code",
      "source": [
        "data['adults'].groupby(data['hotel']).sum()"
      ],
      "metadata": {
        "id": "R4YgtaqtYklH"
      },
      "execution_count": null,
      "outputs": []
    },
    {
      "cell_type": "code",
      "source": [
        "# group the data by the 'hotel' column and sum the 'adults' column\n",
        "grouped_data = data.groupby('hotel')['adults'].sum().reset_index()\n",
        "\n",
        "# draw the bar chart using seaborn's barplot function\n",
        "sns.barplot(x='hotel', y='adults', data=grouped_data)\n",
        "\n",
        "# add appropriate labels to the x-axis, y-axis, and the plot title\n",
        "plt.xlabel('Hotel')\n",
        "plt.ylabel('Number of Adults')\n",
        "plt.title('Number of Adults Who Booked Two Different Hotels')"
      ],
      "metadata": {
        "id": "qVHvjGOKtD5k"
      },
      "execution_count": null,
      "outputs": []
    },
    {
      "cell_type": "code",
      "source": [
        "# Looking into children. \n",
        "# Using groupby to group according to hotel types only.\n",
        "data['children'].groupby(data['hotel']).sum()"
      ],
      "metadata": {
        "id": "JJ9mVefStHo2"
      },
      "execution_count": null,
      "outputs": []
    },
    {
      "cell_type": "code",
      "source": [
        "# group the data by the 'hotel' column and sum the 'children' column\n",
        "grouped_data = data.groupby('hotel')['children'].sum().reset_index()\n",
        "\n",
        "# draw the bar chart using seaborn's barplot function\n",
        "sns.barplot(x='hotel', y='children', data=grouped_data)\n",
        "\n",
        "# add appropriate labels to the x-axis, y-axis, and the plot title\n",
        "plt.xlabel('Hotel')\n",
        "plt.ylabel('Number of children')\n",
        "plt.title('Number of children Who Booked Two Different Hotels')\n",
        "plt.show()"
      ],
      "metadata": {
        "id": "CU38VW8p1F7R"
      },
      "execution_count": null,
      "outputs": []
    },
    {
      "cell_type": "markdown",
      "source": [
        "##### 1. Why did you pick the specific chart?"
      ],
      "metadata": {
        "id": "t6dVpIINYklI"
      }
    },
    {
      "cell_type": "markdown",
      "source": [
        "Aa bar charts are effective for categorical data, where each category represents a discrete entity. In this case, the categories are the two hotels, and the number of adults and children who booked them is a numerical quantity."
      ],
      "metadata": {
        "id": "5aaW0BYyYklI"
      }
    },
    {
      "cell_type": "markdown",
      "source": [
        "##### 2. What is/are the insight(s) found from the chart?"
      ],
      "metadata": {
        "id": "ijmpgYnKYklI"
      }
    },
    {
      "cell_type": "markdown",
      "source": [
        "It seems that Resort hotel is prefered choice when it comes to children whereas adult mostly choose City hotel."
      ],
      "metadata": {
        "id": "PSx9atu2YklI"
      }
    },
    {
      "cell_type": "markdown",
      "source": [
        "##### 3. Will the gained insights help creating a positive business impact? \n",
        "Are there any insights that lead to negative growth? Justify with specific reason."
      ],
      "metadata": {
        "id": "-JiQyfWJYklI"
      }
    },
    {
      "cell_type": "markdown",
      "source": [
        "Decision making: The bar chart can be useful for decision-making purposes. For example, if the goal is to increase the number of adults who book Resort Hotel, the chart shows that there is a significant gap between the two hotels, and strategies can be implemented to increase bookings at Resort Hotel."
      ],
      "metadata": {
        "id": "BcBbebzrYklV"
      }
    },
    {
      "cell_type": "markdown",
      "source": [
        "**#### Chart - 3 Overview of canceled bookings**"
      ],
      "metadata": {
        "id": "EM7whBJCYoAo"
      }
    },
    {
      "cell_type": "code",
      "source": [
        "sns.set(style=\"whitegrid\")\n",
        "sns.catplot(x=\"hotel\", kind=\"count\", data=data, hue=\"is_canceled\", palette=[\"r\", \"y\"], height=6, aspect=1.5) #The hue argument sets the color of the bars according to another column, is_canceled in this case.\n",
        "plt.title(\"Percentage comparison of two different hotels\")                                                   # The palette argument sets the color of each bar.\n",
        "plt.ylabel(\"Count\")\n",
        "plt.show()"
      ],
      "metadata": {
        "id": "t6GMdE67YoAp"
      },
      "execution_count": null,
      "outputs": []
    },
    {
      "cell_type": "markdown",
      "source": [
        "##### 1. Why did you pick the specific chart?"
      ],
      "metadata": {
        "id": "fge-S5ZAYoAp"
      }
    },
    {
      "cell_type": "markdown",
      "source": [
        "A stacked bar  is a suitable chart to visualize the distribution of categorical data. In this case, the categorical variable is \"is_canceled\", which has two possible values - 'canceled' and 'not_canceled'.\n",
        "\n",
        "Here are some reasons why a count plot is a good choice for this kind of visualization:\n",
        "\n",
        "Easy to interpret: Count plots are simple to interpret and can effectively communicate the distribution of categorical data.\n",
        "\n",
        "Shows the frequency of each category: A count plot shows the number of occurrences of each category, making it easy to see the relative frequency of 'canceled' and 'not_canceled' bookings."
      ],
      "metadata": {
        "id": "5dBItgRVYoAp"
      }
    },
    {
      "cell_type": "markdown",
      "source": [
        "##### 2. What is/are the insight(s) found from the chart?"
      ],
      "metadata": {
        "id": "85gYPyotYoAp"
      }
    },
    {
      "cell_type": "markdown",
      "source": [
        "From the count plot of the \"is_canceled\" variable, we can gain the following insights:\n",
        "\n",
        "Distribution of bookings: The count plot shows that the majority of bookings were not canceled, with over 70,000 bookings labeled as 'not_canceled'. The number of bookings that were canceled is approximately half the number of bookings that were not canceled.\n",
        "\n",
        "Imbalance in the dataset: The count plot highlights an imbalance in the dataset, with significantly more 'not_canceled' bookings than 'canceled' bookings. This imbalance may need to be taken into account when analyzing the data or building predictive models."
      ],
      "metadata": {
        "id": "4jstXR6OYoAp"
      }
    },
    {
      "cell_type": "markdown",
      "source": [
        "##### 3. Will the gained insights help creating a positive business impact? \n",
        "Are there any insights that lead to negative growth? Justify with specific reason."
      ],
      "metadata": {
        "id": "RoGjAbkUYoAp"
      }
    },
    {
      "cell_type": "markdown",
      "source": [
        "The count plot can provide insights into the distribution of the 'is_canceled' variable in the dataset. For example, it can show how many bookings were canceled vs not canceled. If the goal of the analysis is to understand booking cancellations and potentially reduce them, this information could be useful in identifying patterns or factors associated with cancellations."
      ],
      "metadata": {
        "id": "zfJ8IqMcYoAp"
      }
    },
    {
      "cell_type": "markdown",
      "source": [
        "**Chart - 4 Let's look into cancellation rate among different type of hotel.**"
      ],
      "metadata": {
        "id": "4Of9eVA-YrdM"
      }
    },
    {
      "cell_type": "code",
      "source": [
        "lst1 = ['is_canceled', 'hotel']\n",
        "\n",
        "type_of_hotel_canceled = data[lst1]\n",
        "canceled_hotel = type_of_hotel_canceled.groupby(['hotel', 'is_canceled']).size().reset_index(name='count')\n",
        "canceled_hotel['percent'] = canceled_hotel.apply(lambda x: (x['count'] / canceled_hotel.loc[canceled_hotel['hotel']==x['hotel'], 'count'].sum())*100, axis=1)\n",
        "canceled_hotel = canceled_hotel[canceled_hotel['is_canceled'] == 'canceled']\n",
        "\n",
        "sns.barplot(data=canceled_hotel, x='hotel', y='percent').set_title('Graph showing cancellation rates in city and resort hotel')"
      ],
      "metadata": {
        "id": "irlUoxc8YrdO"
      },
      "execution_count": null,
      "outputs": []
    },
    {
      "cell_type": "markdown",
      "source": [
        "##### 2. What is/are the insight(s) found from the chart?"
      ],
      "metadata": {
        "id": "F6T5p64dYrdO"
      }
    },
    {
      "cell_type": "markdown",
      "source": [
        "The above bar chart depicts the cancellation percentage for two different Hotel and we can clarly say that slightly above 40% customers have canceled their trip while booking their trips with City Hotel whereas Resort hotel accounts nearly 25 % canceled trips."
      ],
      "metadata": {
        "id": "Xx8WAJvtYrdO"
      }
    },
    {
      "cell_type": "markdown",
      "source": [
        "**Chart - 5 Overview of arrival period**"
      ],
      "metadata": {
        "id": "bamQiAODYuh1"
      }
    },
    {
      "cell_type": "code",
      "source": [
        "lst3 = ['hotel', 'arrival_date_year', 'arrival_date_month','arrival_date_day_of_month' ]\n",
        "period_arrival = data[lst3]\n",
        "sns.countplot(data = period_arrival, x = 'arrival_date_year', hue = 'hotel')"
      ],
      "metadata": {
        "id": "TIJwrbroYuh3"
      },
      "execution_count": null,
      "outputs": []
    },
    {
      "cell_type": "code",
      "source": [
        "plt.figure(figsize=(20,5))\n",
        "\n",
        "sns.countplot(data = period_arrival, x = 'arrival_date_month', hue = 'hotel', order = ['January', 'February', 'March', 'April', 'May', 'June', 'July',\n",
        "          'August', 'September', 'October', 'November', 'December']).set_title('Graph showing number of arrival per month',fontsize=20)\n",
        "plt.xlabel('Month')\n",
        "plt.ylabel('Count')"
      ],
      "metadata": {
        "id": "MjkPrpeDByCD"
      },
      "execution_count": null,
      "outputs": []
    },
    {
      "cell_type": "code",
      "source": [
        "plt.figure(figsize=(20,5))\n",
        "\n",
        "sns.countplot(data = period_arrival, x = 'arrival_date_day_of_month', hue = 'hotel').set_title('Graph showing number of arrival per day', fontsize = 20)"
      ],
      "metadata": {
        "id": "V5jm8SzbCM20"
      },
      "execution_count": null,
      "outputs": []
    },
    {
      "cell_type": "markdown",
      "source": [
        "##### What is/are the insight(s) found from the chart?"
      ],
      "metadata": {
        "id": "GwzvFGzlYuh3"
      }
    },
    {
      "cell_type": "markdown",
      "source": [
        "Based on the dataset, it appears that the year 2016 had the highest number of hotel bookings. Additionally, there is an upward trend in bookings in the middle of the year, with August having the highest number of bookings. As August marks the end of summer and the beginning of autumn, it suggests that the summer season is a peak period for hotel bookings.\n",
        "\n",
        "\n",
        "\n",
        "\n"
      ],
      "metadata": {
        "id": "uyqkiB8YYuh3"
      }
    },
    {
      "cell_type": "markdown",
      "source": [
        "**Chart - 6 let's explore whether there is any difference in the number of bookings made for weekdays versus weekends**."
      ],
      "metadata": {
        "id": "OH-pJp9IphqM"
      }
    },
    {
      "cell_type": "code",
      "source": [
        "plt.figure(figsize=(20,10))\n",
        "sns.countplot(data = data, x = 'stays_in_weekend_nights').set_title('Number of stays on weekend nights', fontsize = 20)\n"
      ],
      "metadata": {
        "id": "kuRf4wtuphqN"
      },
      "execution_count": null,
      "outputs": []
    },
    {
      "cell_type": "code",
      "source": [
        "plt.figure(figsize=(20,10))\n",
        "sns.countplot(data = data, x = 'stays_in_week_nights' ).set_title('Number of stays on weekday night' , fontsize = 20)\n"
      ],
      "metadata": {
        "id": "V69pHy7preUm"
      },
      "execution_count": null,
      "outputs": []
    },
    {
      "cell_type": "markdown",
      "source": [
        "##### 2. What is/are the insight(s) found from the chart?"
      ],
      "metadata": {
        "id": "_ouA3fa0phqN"
      }
    },
    {
      "cell_type": "markdown",
      "source": [
        "Based on the fact that most stays occur on weekday nights, it appears that the distribution of stays across the days of the month was not significant and may have been random."
      ],
      "metadata": {
        "id": "VECbqPI7phqN"
      }
    },
    {
      "cell_type": "markdown",
      "source": [
        "**Chart - 7 Type of visitors**"
      ],
      "metadata": {
        "id": "PIIx-8_IphqN"
      }
    },
    {
      "cell_type": "code",
      "source": [
        "sns.countplot(data = data, x = 'adults', hue = 'hotel').set_title(\"Number of adults\", fontsize = 20)"
      ],
      "metadata": {
        "id": "lqAIGUfyphqO"
      },
      "execution_count": null,
      "outputs": []
    },
    {
      "cell_type": "code",
      "source": [
        "sns.countplot(data = data, x = 'children', hue = 'hotel').set_title(\"Number of children\", fontsize = 20)"
      ],
      "metadata": {
        "id": "k7lDHqULxyAP"
      },
      "execution_count": null,
      "outputs": []
    },
    {
      "cell_type": "code",
      "source": [
        "sns.countplot(data = data, x = 'babies', hue = 'hotel').set_title(\"Number of babies\", fontsize = 20)"
      ],
      "metadata": {
        "id": "kITe4pajx12v"
      },
      "execution_count": null,
      "outputs": []
    },
    {
      "cell_type": "code",
      "source": [],
      "metadata": {
        "id": "OPYtHiL7x2SB"
      },
      "execution_count": null,
      "outputs": []
    },
    {
      "cell_type": "markdown",
      "source": [
        "What is/are the insight(s) found from the chart?"
      ],
      "metadata": {
        "id": "r2jJGEOYphqO"
      }
    },
    {
      "cell_type": "markdown",
      "source": [
        "It appears that the majority of visitors prefer to travel in pairs. Those who travel with children or babies do not have a particular preference for the type of hotel they stay at. However, it can be observed that visitors who bring babies along tend to favor resort hotels."
      ],
      "metadata": {
        "id": "Po6ZPi4hphqO"
      }
    },
    {
      "cell_type": "markdown",
      "source": [
        "**Chart - 8 Looking into market segments and distribution channel**"
      ],
      "metadata": {
        "id": "BZR9WyysphqO"
      }
    },
    {
      "cell_type": "code",
      "source": [
        "plt.figure(figsize=(12,5))\n",
        "sns.countplot(data = data, x = 'market_segment').set_title('Types of market segment', fontsize = 20)"
      ],
      "metadata": {
        "id": "TdPTWpAVphqO"
      },
      "execution_count": null,
      "outputs": []
    },
    {
      "cell_type": "code",
      "source": [
        "plt.figure(figsize=(12,5))\n",
        "sns.countplot(data = data, x = 'distribution_channel').set_title('Types of distribution channel', fontsize = 20)"
      ],
      "metadata": {
        "id": "ezy0TJn0-sBL"
      },
      "execution_count": null,
      "outputs": []
    },
    {
      "cell_type": "markdown",
      "source": [
        "##### 2. What is/are the insight(s) found from the chart?"
      ],
      "metadata": {
        "id": "eZrbJ2SmphqO"
      }
    },
    {
      "cell_type": "markdown",
      "source": [
        "Majority of the distribution channels and market segments involve travel agencies (online or offline).\n"
      ],
      "metadata": {
        "id": "mZtgC_hjphqO"
      }
    },
    {
      "cell_type": "markdown",
      "source": [
        "##### 3. Will the gained insights help creating a positive business impact? \n",
        "Are there any insights that lead to negative growth? Justify with specific reason."
      ],
      "metadata": {
        "id": "rFu4xreNphqO"
      }
    },
    {
      "cell_type": "markdown",
      "source": [
        "We can target our marketing area to be on these travel agencies website and work with them since majority of the visitors tend to reach out to them."
      ],
      "metadata": {
        "id": "ey_0qi68phqO"
      }
    },
    {
      "cell_type": "markdown",
      "source": [
        "#### Chart - 9"
      ],
      "metadata": {
        "id": "YJ55k-q6phqO"
      }
    },
    {
      "cell_type": "code",
      "source": [
        "plt.figure(figsize = (10,5))\n",
        "\n",
        "sns.barplot (y= list(data.country.value_counts().head (10)), x= list(data.country.value_counts().head(10).index))\n",
        "plt.title(\"Number of bookings country wise\",fontweight=\"bold\", size=20)\n"
      ],
      "metadata": {
        "id": "Bd_7wajeFGHo"
      },
      "execution_count": null,
      "outputs": []
    },
    {
      "cell_type": "markdown",
      "source": [
        "#####  What is/are the insight(s) found from the chart?"
      ],
      "metadata": {
        "id": "OVtJsKN_phqQ"
      }
    },
    {
      "cell_type": "markdown",
      "source": [
        "Most guest come from Portugal and other European countries."
      ],
      "metadata": {
        "id": "ngGi97qjphqQ"
      }
    },
    {
      "cell_type": "markdown",
      "source": [
        "**Chart - 10 Most preferred Room type**"
      ],
      "metadata": {
        "id": "U2RJ9gkRphqQ"
      }
    },
    {
      "cell_type": "code",
      "source": [
        "plt.figure(figsize = (20,7))\n",
        "sns.countplot( x = data['assigned_room_type'])\n",
        "plt.title('Preferred room types',fontweight=\"bold\", size=20)"
      ],
      "metadata": {
        "id": "GM7a4YP4phqQ"
      },
      "execution_count": null,
      "outputs": []
    },
    {
      "cell_type": "markdown",
      "source": [
        "##### 2. What is/are the insight(s) found from the chart?"
      ],
      "metadata": {
        "id": "tgIPom80phqQ"
      }
    },
    {
      "cell_type": "markdown",
      "source": [
        "Room type A and D Were the most preffered room choice."
      ],
      "metadata": {
        "id": "Qp13pnNzphqQ"
      }
    },
    {
      "cell_type": "markdown",
      "source": [
        "#### Chart - 11"
      ],
      "metadata": {
        "id": "x-EpHcCOp1ci"
      }
    },
    {
      "cell_type": "code",
      "source": [
        "plt.figure(figsize=(15,5))\n",
        "sns.lineplot(data = data, x = 'arrival_date_month', y = 'adr', hue = 'hotel',sort = True, marker ='o')\n",
        "plt.title('Average daily rate month wise',fontweight ='bold',size =20)"
      ],
      "metadata": {
        "id": "mAQTIvtqp1cj"
      },
      "execution_count": null,
      "outputs": []
    },
    {
      "cell_type": "markdown",
      "source": [
        "##### 1. Why did you pick the specific chart?"
      ],
      "metadata": {
        "id": "X_VqEhTip1ck"
      }
    },
    {
      "cell_type": "markdown",
      "source": [
        "line plot becomes rellay handy when it comes to visulizw trend along with the time."
      ],
      "metadata": {
        "id": "-vsMzt_np1ck"
      }
    },
    {
      "cell_type": "markdown",
      "source": [
        "##### 2. What is/are the insight(s) found from the chart?"
      ],
      "metadata": {
        "id": "8zGJKyg5p1ck"
      }
    },
    {
      "cell_type": "markdown",
      "source": [
        "The above line plot illustrates the trend of average daily prices per month for City Hotel and Resort Hotel. The average daily price for the Resort Hotel remains low except two month throughout the given period of time(July and August). The weather condition might be a factor for increasing number of vistiors at the resort Hotel as during these months people feel very hot weather and  want to spend their time at cooler places. So Resort can be the place for them."
      ],
      "metadata": {
        "id": "ZYdMsrqVp1ck"
      }
    },
    {
      "cell_type": "markdown",
      "source": [
        "##### 3. Will the gained insights help creating a positive business impact? \n",
        "Are there any insights that lead to negative growth? Justify with specific reason."
      ],
      "metadata": {
        "id": "PVzmfK_Ep1ck"
      }
    },
    {
      "cell_type": "markdown",
      "source": [
        "With the help of the above trend we can suggest the City hotel management team to run discounts and water sports activities so that tourist can attract towards City hotel."
      ],
      "metadata": {
        "id": "druuKYZpp1ck"
      }
    },
    {
      "cell_type": "markdown",
      "source": [
        "#### Chart - 14 - Correlation Heatmap"
      ],
      "metadata": {
        "id": "NC_X3p0fY2L0"
      }
    },
    {
      "cell_type": "code",
      "source": [
        "plt.figure(figsize=(20,10))\n",
        "data.corr()\n",
        "sns.heatmap(data.corr(),cmap='magma',linecolor='white',linewidths=1,annot=True)"
      ],
      "metadata": {
        "id": "xyC9zolEZNRQ"
      },
      "execution_count": null,
      "outputs": []
    },
    {
      "cell_type": "markdown",
      "source": [
        "##### 1. Why did you pick the specific chart?"
      ],
      "metadata": {
        "id": "UV0SzAkaZNRQ"
      }
    },
    {
      "cell_type": "markdown",
      "source": [
        "A correlation heatmap is a useful tool for exploring the relationships between variables in a dataset, identifying patterns and anomalies, and informing feature selection in predictive modeling."
      ],
      "metadata": {
        "id": "DVPuT8LYZNRQ"
      }
    },
    {
      "cell_type": "markdown",
      "source": [
        "##### 2. What is/are the insight(s) found from the chart?"
      ],
      "metadata": {
        "id": "YPEH6qLeZNRQ"
      }
    },
    {
      "cell_type": "markdown",
      "source": [
        "The above heatmap depicts the corelation between various variables of our data set."
      ],
      "metadata": {
        "id": "bfSqtnDqZNRR"
      }
    },
    {
      "cell_type": "markdown",
      "source": [
        "#### Chart - 15 - Pair Plot "
      ],
      "metadata": {
        "id": "q29F0dvdveiT"
      }
    },
    {
      "cell_type": "code",
      "source": [
        "sns.pairplot(data,palette='coolwarm')"
      ],
      "metadata": {
        "id": "o58-TEIhveiU"
      },
      "execution_count": null,
      "outputs": []
    },
    {
      "cell_type": "markdown",
      "source": [
        "##### 1. Why did you pick the specific chart?"
      ],
      "metadata": {
        "id": "EXh0U9oCveiU"
      }
    },
    {
      "cell_type": "markdown",
      "source": [
        "pairplot will plot pairwise relationships across an entire dataframe (for the numerical columns) and supports a color hue argument (for categorical columns)."
      ],
      "metadata": {
        "id": "eMmPjTByveiU"
      }
    },
    {
      "cell_type": "markdown",
      "source": [
        "##### 2. What is/are the insight(s) found from the chart?"
      ],
      "metadata": {
        "id": "22aHeOlLveiV"
      }
    },
    {
      "cell_type": "markdown",
      "source": [
        "A pairplot is a plot that shows the pairwise relationships between variables in a dataset. It is a combination of scatterplots and histograms, where the diagonal shows the distribution of each variable and the off-diagonal plots show the scatterplots of each pair of variables."
      ],
      "metadata": {
        "id": "uPQ8RGwHveiV"
      }
    },
    {
      "cell_type": "markdown",
      "source": [
        "## **5. Solution to Business Objective**"
      ],
      "metadata": {
        "id": "JcMwzZxoAimU"
      }
    },
    {
      "cell_type": "markdown",
      "source": [
        "#### What do you suggest the client to achieve Business Objective ? \n",
        "Explain Briefly."
      ],
      "metadata": {
        "id": "8G2x9gOozGDZ"
      }
    },
    {
      "cell_type": "markdown",
      "source": [
        "Answer Here."
      ],
      "metadata": {
        "id": "pASKb0qOza21"
      }
    },
    {
      "cell_type": "markdown",
      "source": [
        "# **Conclusion**"
      ],
      "metadata": {
        "id": "gCX9965dhzqZ"
      }
    },
    {
      "cell_type": "markdown",
      "source": [
        "Write the conclusion here."
      ],
      "metadata": {
        "id": "Fjb1IsQkh3yE"
      }
    },
    {
      "cell_type": "markdown",
      "source": [
        "### ***Hurrah! You have successfully completed your EDA Capstone Project !!!***"
      ],
      "metadata": {
        "id": "gIfDvo9L0UH2"
      }
    }
  ]
}